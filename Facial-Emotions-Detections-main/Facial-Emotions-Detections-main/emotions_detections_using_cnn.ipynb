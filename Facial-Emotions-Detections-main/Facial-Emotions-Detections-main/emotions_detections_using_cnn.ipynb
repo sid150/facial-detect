{
 "cells": [
  {
   "cell_type": "code",
   "execution_count": 1,
   "id": "abb6d640",
   "metadata": {
    "execution": {
     "iopub.execute_input": "2022-04-06T06:44:56.296877Z",
     "iopub.status.busy": "2022-04-06T06:44:56.294931Z",
     "iopub.status.idle": "2022-04-06T06:45:03.156139Z",
     "shell.execute_reply": "2022-04-06T06:45:03.156714Z",
     "shell.execute_reply.started": "2022-04-06T06:31:40.419141Z"
    },
    "papermill": {
     "duration": 6.879286,
     "end_time": "2022-04-06T06:45:03.157103",
     "exception": false,
     "start_time": "2022-04-06T06:44:56.277817",
     "status": "completed"
    },
    "tags": []
   },
   "outputs": [
    {
     "data": {
      "image/png": "[encoded data removed]",
      "text/plain": [
       "<Figure size 864x864 with 1 Axes>"
      ]
     },
     "metadata": {
      "needs_background": "light"
     },
     "output_type": "display_data"
    }
   ],
   "source": [
    "import pandas as pd\n",
    "import numpy as np\n",
    "import os\n",
    "import seaborn as sns\n",
    "import matplotlib.pyplot as plt\n",
    "\n",
    "#importing deep learning libraries \n",
    "from keras.preprocessing.image import load_img,img_to_array\n",
    "from keras.preprocessing.image import ImageDataGenerator\n",
    "from keras.layers import Dense,Input,Dropout,GlobalAveragePooling2D,Flatten,Conv2D,BatchNormalization,Activation,MaxPooling2D\n",
    "from keras.models import Model,Sequential\n",
    "\n",
    "\n",
    "picture_size=60\n",
    "folder_path=\"../input/facial-expression-recognition/\"\n",
    "expression='disgust'\n",
    "plt.figure(figsize=(12,12))\n",
    "for i in range(1,10,1):\n",
    "    plt.subplot(3,3,1)\n",
    "    img=load_img(folder_path+\"train/\"+expression+\"/\"+os.listdir(folder_path+\"train/\"+expression)[i],target_size=(picture_size,picture_size))\n",
    "    plt.imshow(img)\n",
    "plt.show()\n",
    "\n",
    "\n",
    "\n"
   ]
  },
  {
   "cell_type": "markdown",
   "id": "ad0340b4",
   "metadata": {
    "papermill": {
     "duration": 0.009253,
     "end_time": "2022-04-06T06:45:03.177435",
     "exception": false,
     "start_time": "2022-04-06T06:45:03.168182",
     "status": "completed"
    },
    "tags": []
   },
   "source": []
  },
  {
   "cell_type": "markdown",
   "id": "eccd10e6",
   "metadata": {
    "papermill": {
     "duration": 0.00946,
     "end_time": "2022-04-06T06:45:03.196461",
     "exception": false,
     "start_time": "2022-04-06T06:45:03.187001",
     "status": "completed"
    },
    "tags": []
   },
   "source": []
  },
  {
   "cell_type": "markdown",
   "id": "c95b2682",
   "metadata": {
    "papermill": {
     "duration": 0.009265,
     "end_time": "2022-04-06T06:45:03.215262",
     "exception": false,
     "start_time": "2022-04-06T06:45:03.205997",
     "status": "completed"
    },
    "tags": []
   },
   "source": []
  },
  {
   "cell_type": "markdown",
   "id": "972b05e8",
   "metadata": {
    "papermill": {
     "duration": 0.009192,
     "end_time": "2022-04-06T06:45:03.234198",
     "exception": false,
     "start_time": "2022-04-06T06:45:03.225006",
     "status": "completed"
    },
    "tags": []
   },
   "source": []
  },
  {
   "cell_type": "code",
   "execution_count": 2,
   "id": "758c9325",
   "metadata": {
    "execution": {
     "iopub.execute_input": "2022-04-06T06:45:03.260564Z",
     "iopub.status.busy": "2022-04-06T06:45:03.259857Z",
     "iopub.status.idle": "2022-04-06T06:45:15.531870Z",
     "shell.execute_reply": "2022-04-06T06:45:15.531167Z",
     "shell.execute_reply.started": "2022-04-06T06:31:46.804842Z"
    },
    "papermill": {
     "duration": 12.288211,
     "end_time": "2022-04-06T06:45:15.532023",
     "exception": false,
     "start_time": "2022-04-06T06:45:03.243812",
     "status": "completed"
    },
    "tags": []
   },
   "outputs": [
    {
     "name": "stdout",
     "output_type": "stream",
     "text": [
      "Found 28708 images belonging to 7 classes.\n",
      "Found 7178 images belonging to 7 classes.\n"
     ]
    }
   ],
   "source": [
    "batch_size=128\n",
    "datagen_train=ImageDataGenerator()\n",
    "datagen_val=ImageDataGenerator()\n",
    "train_set=datagen_train.flow_from_directory(folder_path+\"train\",target_size=(picture_size,picture_size),color_mode=\"grayscale\",batch_size=batch_size,class_mode='categorical',shuffle=True)\n",
    "test_set=datagen_val.flow_from_directory(folder_path+\"test\",target_size=(picture_size,picture_size),color_mode=\"grayscale\",batch_size=batch_size,class_mode='categorical',shuffle=False)\n"
   ]
  },
  {
   "cell_type": "code",
   "execution_count": 3,
   "id": "d7cd826c",
   "metadata": {
    "execution": {
     "iopub.execute_input": "2022-04-06T06:45:15.570224Z",
     "iopub.status.busy": "2022-04-06T06:45:15.569525Z",
     "iopub.status.idle": "2022-04-06T06:45:15.951069Z",
     "shell.execute_reply": "2022-04-06T06:45:15.950378Z",
     "shell.execute_reply.started": "2022-04-06T06:32:16.519681Z"
    },
    "papermill": {
     "duration": 0.408588,
     "end_time": "2022-04-06T06:45:15.951210",
     "exception": false,
     "start_time": "2022-04-06T06:45:15.542622",
     "status": "completed"
    },
    "tags": []
   },
   "outputs": [
    {
     "name": "stderr",
     "output_type": "stream",
     "text": [
      "2022-04-06 06:45:15.608297: I tensorflow/core/common_runtime/process_util.cc:146] Creating new thread pool with default inter op setting: 2. Tune using inter_op_parallelism_threads for best performance.\n"
     ]
    },
    {
     "name": "stdout",
     "output_type": "stream",
     "text": [
      "Model: \"sequential\"\n",
      "_________________________________________________________________\n",
      "Layer (type)                 Output Shape              Param #   \n",
      "=================================================================\n",
      "conv2d (Conv2D)              (None, 48, 48, 64)        640       \n",
      "_________________________________________________________________\n",
      "batch_normalization (BatchNo (None, 48, 48, 64)        256       \n",
      "_________________________________________________________________\n",
      "activation (Activation)      (None, 48, 48, 64)        0         \n",
      "_________________________________________________________________\n",
      "max_pooling2d (MaxPooling2D) (None, 24, 24, 64)        0         \n",
      "_________________________________________________________________\n",
      "dropout (Dropout)            (None, 24, 24, 64)        0         \n",
      "_________________________________________________________________\n",
      "conv2d_1 (Conv2D)            (None, 24, 24, 128)       204928    \n",
      "_________________________________________________________________\n",
      "batch_normalization_1 (Batch (None, 24, 24, 128)       512       \n",
      "_________________________________________________________________\n",
      "activation_1 (Activation)    (None, 24, 24, 128)       0         \n",
      "_________________________________________________________________\n",
      "max_pooling2d_1 (MaxPooling2 (None, 12, 12, 128)       0         \n",
      "_________________________________________________________________\n",
      "dropout_1 (Dropout)          (None, 12, 12, 128)       0         \n",
      "_________________________________________________________________\n",
      "conv2d_2 (Conv2D)            (None, 12, 12, 512)       590336    \n",
      "_________________________________________________________________\n",
      "batch_normalization_2 (Batch (None, 12, 12, 512)       2048      \n",
      "_________________________________________________________________\n",
      "activation_2 (Activation)    (None, 12, 12, 512)       0         \n",
      "_________________________________________________________________\n",
      "max_pooling2d_2 (MaxPooling2 (None, 6, 6, 512)         0         \n",
      "_________________________________________________________________\n",
      "dropout_2 (Dropout)          (None, 6, 6, 512)         0         \n",
      "_________________________________________________________________\n",
      "conv2d_3 (Conv2D)            (None, 6, 6, 512)         2359808   \n",
      "_________________________________________________________________\n",
      "batch_normalization_3 (Batch (None, 6, 6, 512)         2048      \n",
      "_________________________________________________________________\n",
      "activation_3 (Activation)    (None, 6, 6, 512)         0         \n",
      "_________________________________________________________________\n",
      "max_pooling2d_3 (MaxPooling2 (None, 3, 3, 512)         0         \n",
      "_________________________________________________________________\n",
      "dropout_3 (Dropout)          (None, 3, 3, 512)         0         \n",
      "_________________________________________________________________\n",
      "flatten (Flatten)            (None, 4608)              0         \n",
      "_________________________________________________________________\n",
      "dense (Dense)                (None, 256)               1179904   \n",
      "_________________________________________________________________\n",
      "batch_normalization_4 (Batch (None, 256)               1024      \n",
      "_________________________________________________________________\n",
      "activation_4 (Activation)    (None, 256)               0         \n",
      "_________________________________________________________________\n",
      "dropout_4 (Dropout)          (None, 256)               0         \n",
      "_________________________________________________________________\n",
      "dense_1 (Dense)              (None, 512)               131584    \n",
      "_________________________________________________________________\n",
      "batch_normalization_5 (Batch (None, 512)               2048      \n",
      "_________________________________________________________________\n",
      "activation_5 (Activation)    (None, 512)               0         \n",
      "_________________________________________________________________\n",
      "dropout_5 (Dropout)          (None, 512)               0         \n",
      "_________________________________________________________________\n",
      "dense_2 (Dense)              (None, 7)                 3591      \n",
      "=================================================================\n",
      "Total params: 4,478,727\n",
      "Trainable params: 4,474,759\n",
      "Non-trainable params: 3,968\n",
      "_________________________________________________________________\n"
     ]
    }
   ],
   "source": [
    "#Model buildings \n",
    "\n",
    "\n",
    "model=Sequential()\n",
    "no_of_classes=7\n",
    "\n",
    "#1st CNN layer\n",
    "model.add(Conv2D(64,(3,3),padding = 'same',input_shape = (48,48,1)))\n",
    "model.add(BatchNormalization())\n",
    "model.add(Activation('relu'))\n",
    "model.add(MaxPooling2D(pool_size = (2,2)))\n",
    "model.add(Dropout(0.25))\n",
    "\n",
    "#2nd CNN layer\n",
    "model.add(Conv2D(128,(5,5),padding = 'same'))\n",
    "model.add(BatchNormalization())\n",
    "model.add(Activation('relu'))\n",
    "model.add(MaxPooling2D(pool_size = (2,2)))\n",
    "model.add(Dropout (0.25))\n",
    "\n",
    "#3rd CNN layer\n",
    "model.add(Conv2D(512,(3,3),padding = 'same'))\n",
    "model.add(BatchNormalization())\n",
    "model.add(Activation('relu'))\n",
    "model.add(MaxPooling2D(pool_size = (2,2)))\n",
    "model.add(Dropout (0.25))\n",
    "\n",
    "#4th CNN layer\n",
    "model.add(Conv2D(512,(3,3), padding='same'))\n",
    "model.add(BatchNormalization())\n",
    "model.add(Activation('relu'))\n",
    "model.add(MaxPooling2D(pool_size=(2, 2)))\n",
    "model.add(Dropout(0.25))\n",
    "\n",
    "model.add(Flatten())\n",
    "\n",
    "#Fully connected 1st layer\n",
    "model.add(Dense(256))\n",
    "model.add(BatchNormalization())\n",
    "model.add(Activation('relu'))\n",
    "model.add(Dropout(0.25))\n",
    "\n",
    "# Fully connected layer 2nd layer\n",
    "model.add(Dense(512))\n",
    "model.add(BatchNormalization())\n",
    "model.add(Activation('relu'))\n",
    "model.add(Dropout(0.25))\n",
    "\n",
    "model.add(Dense(no_of_classes, activation='softmax'))\n",
    "\n",
    "\n",
    "\n",
    "\n",
    "model.compile(loss='categorical_crossentropy', metrics=['accuracy'])\n",
    "model.summary()\n",
    "\n",
    "\n"
   ]
  },
  {
   "cell_type": "code",
   "execution_count": 4,
   "id": "0061046f",
   "metadata": {
    "execution": {
     "iopub.execute_input": "2022-04-06T06:45:15.986956Z",
     "iopub.status.busy": "2022-04-06T06:45:15.986199Z",
     "iopub.status.idle": "2022-04-06T08:43:04.767502Z",
     "shell.execute_reply": "2022-04-06T08:43:04.766977Z"
    },
    "papermill": {
     "duration": 7068.804998,
     "end_time": "2022-04-06T08:43:04.767644",
     "exception": false,
     "start_time": "2022-04-06T06:45:15.962646",
     "status": "completed"
    },
    "tags": []
   },
   "outputs": [
    {
     "name": "stderr",
     "output_type": "stream",
     "text": [
      "/opt/conda/lib/python3.7/site-packages/keras/engine/training.py:1972: UserWarning: `Model.fit_generator` is deprecated and will be removed in a future version. Please use `Model.fit`, which supports generators.\n",
      "  warnings.warn('`Model.fit_generator` is deprecated and '\n",
      "2022-04-06 06:45:16.419022: I tensorflow/compiler/mlir/mlir_graph_optimization_pass.cc:185] None of the MLIR Optimization Passes are enabled (registered 2)\n"
     ]
    },
    {
     "name": "stdout",
     "output_type": "stream",
     "text": [
      "Epoch 1/48\n",
      "224/224 [==============================] - 768s 3s/step - loss: 1.7344 - accuracy: 0.3409 - val_loss: 1.7290 - val_accuracy: 0.3174\n",
      "Epoch 2/48\n",
      "224/224 [==============================] - 758s 3s/step - loss: 1.3625 - accuracy: 0.4802 - val_loss: 1.4824 - val_accuracy: 0.4390\n",
      "Epoch 3/48\n",
      "224/224 [==============================] - 764s 3s/step - loss: 1.2247 - accuracy: 0.5339 - val_loss: 1.2788 - val_accuracy: 0.5234\n",
      "Epoch 4/48\n",
      "224/224 [==============================] - 757s 3s/step - loss: 1.1370 - accuracy: 0.5695 - val_loss: 1.5113 - val_accuracy: 0.4538\n",
      "Epoch 5/48\n",
      "224/224 [==============================] - 766s 3s/step - loss: 1.0722 - accuracy: 0.5931 - val_loss: 1.1841 - val_accuracy: 0.5525\n",
      "Epoch 6/48\n",
      "224/224 [==============================] - 755s 3s/step - loss: 1.0095 - accuracy: 0.6181 - val_loss: 1.1059 - val_accuracy: 0.5958\n",
      "Epoch 7/48\n",
      "224/224 [==============================] - 765s 3s/step - loss: 0.9469 - accuracy: 0.6430 - val_loss: 1.1570 - val_accuracy: 0.5896\n",
      "Epoch 8/48\n",
      "224/224 [==============================] - 770s 3s/step - loss: 0.9000 - accuracy: 0.6624 - val_loss: 1.1420 - val_accuracy: 0.5988\n",
      "Epoch 9/48\n",
      "224/224 [==============================] - 769s 3s/step - loss: 0.8419 - accuracy: 0.6830 - val_loss: 1.2121 - val_accuracy: 0.5815\n",
      "Restoring model weights from the end of the best epoch.\n",
      "\n",
      "Epoch 00009: ReduceLROnPlateau reducing learning rate to 0.00020000000949949026.\n",
      "Epoch 00009: early stopping\n"
     ]
    }
   ],
   "source": [
    "from keras.callbacks import ModelCheckpoint, EarlyStopping, ReduceLROnPlateau\n",
    "\n",
    "checkpoint = ModelCheckpoint(\"./model.h5\", monitor='val_acc', verbose=1, save_best_only=True, mode='max')\n",
    "\n",
    "early_stopping = EarlyStopping(monitor='val_loss',\n",
    "                          min_delta=0,\n",
    "                          patience=3,\n",
    "                          verbose=1,\n",
    "                          restore_best_weights=True\n",
    "                          )\n",
    "\n",
    "reduce_learningrate = ReduceLROnPlateau(monitor='val_loss',\n",
    "                              factor=0.2,\n",
    "                              patience=3,\n",
    "                              verbose=1,\n",
    "                              min_delta=0.0001)\n",
    "\n",
    "callbacks_list = [early_stopping,checkpoint,reduce_learningrate]\n",
    "\n",
    "epochs = 48\n",
    "\n",
    "model.compile(loss='categorical_crossentropy',\n",
    "              metrics=['accuracy'])\n",
    "history = model.fit_generator(generator=train_set,\n",
    "                                steps_per_epoch=train_set.n//train_set.batch_size,\n",
    "                                epochs=epochs,\n",
    "                                validation_data = test_set,\n",
    "                                validation_steps = test_set.n//test_set.batch_size,\n",
    "                                callbacks=callbacks_list\n",
    "                                )"
   ]
  },
  {
   "cell_type": "code",
   "execution_count": 5,
   "id": "d44bea7a",
   "metadata": {
    "execution": {
     "iopub.execute_input": "2022-04-06T08:43:06.546836Z",
     "iopub.status.busy": "2022-04-06T08:43:06.546166Z",
     "iopub.status.idle": "2022-04-06T08:43:06.634672Z",
     "shell.execute_reply": "2022-04-06T08:43:06.634042Z"
    },
    "papermill": {
     "duration": 0.972198,
     "end_time": "2022-04-06T08:43:06.634826",
     "exception": false,
     "start_time": "2022-04-06T08:43:05.662628",
     "status": "completed"
    },
    "tags": []
   },
   "outputs": [],
   "source": [
    "model.save_weights('/kaggle/working/final_model.h5')\n"
   ]
  }
 ],
 "metadata": {
  "kernelspec": {
   "display_name": "Python 3",
   "language": "python",
   "name": "python3"
  },
  "language_info": {
   "codemirror_mode": {
    "name": "ipython",
    "version": 3
   },
   "file_extension": ".py",
   "mimetype": "text/x-python",
   "name": "python",
   "nbconvert_exporter": "python",
   "pygments_lexer": "ipython3",
   "version": "3.7.12"
  },
  "papermill": {
   "default_parameters": {},
   "duration": 7103.967495,
   "end_time": "2022-04-06T08:43:10.107153",
   "environment_variables": {},
   "exception": null,
   "input_path": "__notebook__.ipynb",
   "output_path": "__notebook__.ipynb",
   "parameters": {},
   "start_time": "2022-04-06T06:44:46.139658",
   "version": "2.3.3"
  }
 },
 "nbformat": 4,
 "nbformat_minor": 5
}
